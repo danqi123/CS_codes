{
 "cells": [
  {
   "cell_type": "markdown",
   "metadata": {},
   "source": [
    "# Computer Science for Life Scientists - Assignment 07\n"
   ]
  },
  {
   "cell_type": "markdown",
   "metadata": {},
   "source": [
    "## Exercise 1 (Function Classes, 6 Points)\n"
   ]
  },
  {
   "cell_type": "markdown",
   "metadata": {},
   "source": [
    "## Dynamic Programming"
   ]
  },
  {
   "cell_type": "markdown",
   "metadata": {},
   "source": [
    "Searching for the longest common subsequence (LCS) of biosequences is an important task in bioinformatics. A subsequence is a sequence that appears in the same relative order, but not necessarily contiguously. For example, given a sequence S =“AGGTACCCGATC”, all “AGT”, “TAGAT”, “GGG”, are subsequences of S, but “TGCT” is not. In bioinformatics, the length of the longest common subsequence between two biosequences is a good measure for the similarity of the two sequences."
   ]
  },
  {
   "cell_type": "markdown",
   "metadata": {},
   "source": [
    "a) Write a recursive Python function to ﬁnd the LCS of two input strings of size n and m."
   ]
  },
  {
   "cell_type": "code",
   "execution_count": 1,
   "metadata": {},
   "outputs": [
    {
     "name": "stdout",
     "output_type": "stream",
     "text": [
      "6\n"
     ]
    }
   ],
   "source": [
    "def lcs(seq1,seq2,n,m):\n",
    "    if n == 0 or m == 0:\n",
    "        result = 0\n",
    "    elif seq1[n-1] == seq2[m-1]:\n",
    "        result = lcs(seq1, seq2, n-1, m-1) + 1\n",
    "    else:\n",
    "        temp1 = lcs(seq1,seq2,n-1,m)\n",
    "        temp2 = lcs(seq1,seq2,n,m-1)\n",
    "        result = max(temp1, temp2)\n",
    "    return result\n",
    "\n",
    "text1 = \"abcdesdvghjjjjffddcf\"\n",
    "text2 = \"aceddjjkgg\"\n",
    "l=lcs(text1,text2,20,10)\n",
    "print(l)"
   ]
  },
  {
   "cell_type": "markdown",
   "metadata": {},
   "source": [
    "b) For two sequences of size n, what is the running time complexity of your function in part a), where all possible subsequences are computed for both sequences? Brieﬂy explain your answer."
   ]
  },
  {
   "cell_type": "markdown",
   "metadata": {},
   "source": [
    "Answer: O(2^n)\n",
    "\n",
    "As T(0,0)=T(0,1)=T(1,0)=T(1,1)=1, so T(n,m)=T(n-1,m)+T(n,m-1)+1，T(n,m) grows exponentially."
   ]
  },
  {
   "cell_type": "markdown",
   "metadata": {},
   "source": [
    "c) This time, use dynamic programming to ﬁnd the LCS of two input strings of size n and m."
   ]
  },
  {
   "cell_type": "code",
   "execution_count": 2,
   "metadata": {},
   "outputs": [
    {
     "name": "stdout",
     "output_type": "stream",
     "text": [
      "6\n"
     ]
    }
   ],
   "source": [
    "def lcs(seq1, seq2,n,m):\n",
    "    arr = [[0]*(m+1) for _ in range(n+1)]\n",
    "    for i in range(1,n+1):\n",
    "        for j in range(1,m+1):\n",
    "            if seq1[i-1] == seq2[j-1]:\n",
    "                arr[i][j] = 1 + arr[i-1][j-1]\n",
    "            else:\n",
    "                arr[i][j] = max(arr[i][j-1],arr[i-1][j])\n",
    "\n",
    "    return arr[-1][-1]\n",
    "\n",
    "text1 = \"abcdesdvghjjjjffddcf\"\n",
    "text2 = \"aceddjjkgg\"\n",
    "l=lcs(text1,text2,20,10)\n",
    "print(l)"
   ]
  },
  {
   "cell_type": "markdown",
   "metadata": {},
   "source": [
    "d) Brieﬂy explain what is the running time complexity of LCS function in part c). (1P)"
   ]
  },
  {
   "cell_type": "markdown",
   "metadata": {},
   "source": [
    "Answer: O(nm)\n",
    "\n",
    "There are 2 for loops, the inner done m times while the outer loops once (the time complexity of inner loop is O(m)). And the outer loop still has to loop n times (the running time comeplexity of outer loop is O(n)). So the running time complexity is O(nm) "
   ]
  },
  {
   "cell_type": "markdown",
   "metadata": {},
   "source": [
    "## Doubly Linked Lists"
   ]
  },
  {
   "cell_type": "markdown",
   "metadata": {},
   "source": [
    "You have learned in the lecture that a node in a doubly linked list stores pointers to its previous and next elements in the list. In addition, we store head and tail pointers to the ﬁrst and last node, respectively. For each of the following operations, write pseudocode in a style similar to the one that was used in the lecture:\n"
   ]
  },
  {
   "cell_type": "markdown",
   "metadata": {},
   "source": [
    "\n",
    "• Accessing the element at position pos in the list.\n"
   ]
  },
  {
   "cell_type": "code",
   "execution_count": null,
   "metadata": {},
   "outputs": [],
   "source": [
    "Init(SList self):\n",
    "    Node self.head=None\n",
    "    int self.len=0\n"
   ]
  },
  {
   "cell_type": "code",
   "execution_count": null,
   "metadata": {},
   "outputs": [],
   "source": [
    "At(SList self, int pos):\n",
    "assert pos>=0 and pos<self.len\n",
    "Node p = self.head\n",
    "for i in range(pos):\n",
    "    p = p.next\n",
    "return p.data"
   ]
  },
  {
   "cell_type": "markdown",
   "metadata": {},
   "source": [
    "• Inserting a new element at position pos."
   ]
  },
  {
   "cell_type": "code",
   "execution_count": null,
   "metadata": {
    "pycharm": {
     "name": "#%%\n"
    }
   },
   "outputs": [],
   "source": [
    "Insert(SList self, int pos, Element el):\n",
    "assert pos>=0 and pos<self.len\n",
    "Node newp=new Node(el,None,None)\n",
    "Node p = self.head\n",
    "if pos==0:\n",
    "    newp.next=self.head\n",
    "    self.head = newp\n",
    "    newp.next.prev = newp\n",
    "    newp.prev=None\n",
    "else:\n",
    "    for i in range(pos):\n",
    "        p = p.next\n",
    "    newp.prev = p.prev\n",
    "    newp.next = p\n",
    "    p.prev.next = newp\n",
    "    p.prev = newp\n",
    "self.len +=1\n",
    "\n",
    "\n"
   ]
  }
 ],
 "metadata": {
  "kernelspec": {
   "display_name": "Python 3",
   "language": "python",
   "name": "python3"
  },
  "language_info": {
   "codemirror_mode": {
    "name": "ipython",
    "version": 3
   },
   "file_extension": ".py",
   "mimetype": "text/x-python",
   "name": "python",
   "nbconvert_exporter": "python",
   "pygments_lexer": "ipython3",
   "version": "3.8.3"
  },
  "pycharm": {
   "stem_cell": {
    "cell_type": "raw",
    "source": [
     "\n"
    ],
    "metadata": {
     "collapsed": false
    }
   }
  }
 },
 "nbformat": 4,
 "nbformat_minor": 4
}